{
 "cells": [
  {
   "cell_type": "code",
   "execution_count": 1,
   "id": "8a12c63d",
   "metadata": {},
   "outputs": [],
   "source": [
    "import pandas as pd\n",
    "import numpy as np\n",
    "import matplotlib.pyplot as plt"
   ]
  },
  {
   "cell_type": "code",
   "execution_count": 2,
   "id": "486947da",
   "metadata": {},
   "outputs": [],
   "source": [
    "data = pd.read_csv('points-of-sale-transactions-mar-22.csv')"
   ]
  },
  {
   "cell_type": "code",
   "execution_count": 3,
   "id": "1744db95",
   "metadata": {},
   "outputs": [
    {
     "data": {
      "text/html": [
       "<div>\n",
       "<style scoped>\n",
       "    .dataframe tbody tr th:only-of-type {\n",
       "        vertical-align: middle;\n",
       "    }\n",
       "\n",
       "    .dataframe tbody tr th {\n",
       "        vertical-align: top;\n",
       "    }\n",
       "\n",
       "    .dataframe thead th {\n",
       "        text-align: right;\n",
       "    }\n",
       "</style>\n",
       "<table border=\"1\" class=\"dataframe\">\n",
       "  <thead>\n",
       "    <tr style=\"text-align: right;\">\n",
       "      <th></th>\n",
       "      <th>112</th>\n",
       "      <th>Main</th>\n",
       "      <th>Unnamed: 2</th>\n",
       "      <th>Unnamed: 3</th>\n",
       "      <th>Unnamed: 4</th>\n",
       "      <th>Unnamed: 5</th>\n",
       "    </tr>\n",
       "  </thead>\n",
       "  <tbody>\n",
       "    <tr>\n",
       "      <th>0</th>\n",
       "      <td>5</td>\n",
       "      <td>$B$456</td>\n",
       "      <td>NaN</td>\n",
       "      <td>Refresh</td>\n",
       "      <td>0</td>\n",
       "      <td>NaN</td>\n",
       "    </tr>\n",
       "    <tr>\n",
       "      <th>1</th>\n",
       "      <td>5</td>\n",
       "      <td>$B$458</td>\n",
       "      <td>NaN</td>\n",
       "      <td>Refresh</td>\n",
       "      <td>0</td>\n",
       "      <td>NaN</td>\n",
       "    </tr>\n",
       "    <tr>\n",
       "      <th>2</th>\n",
       "      <td>5</td>\n",
       "      <td>$B$457</td>\n",
       "      <td>NaN</td>\n",
       "      <td>Refresh</td>\n",
       "      <td>0</td>\n",
       "      <td>NaN</td>\n",
       "    </tr>\n",
       "    <tr>\n",
       "      <th>3</th>\n",
       "      <td>7-3</td>\n",
       "      <td>$BE$49</td>\n",
       "      <td>NaN</td>\n",
       "      <td>Refresh</td>\n",
       "      <td>0</td>\n",
       "      <td>0.0</td>\n",
       "    </tr>\n",
       "    <tr>\n",
       "      <th>4</th>\n",
       "      <td>7-3</td>\n",
       "      <td>$BE$46</td>\n",
       "      <td>NaN</td>\n",
       "      <td>Refresh</td>\n",
       "      <td>0</td>\n",
       "      <td>0.0</td>\n",
       "    </tr>\n",
       "    <tr>\n",
       "      <th>...</th>\n",
       "      <td>...</td>\n",
       "      <td>...</td>\n",
       "      <td>...</td>\n",
       "      <td>...</td>\n",
       "      <td>...</td>\n",
       "      <td>...</td>\n",
       "    </tr>\n",
       "    <tr>\n",
       "      <th>107</th>\n",
       "      <td>7-3</td>\n",
       "      <td>$K$24</td>\n",
       "      <td>NaN</td>\n",
       "      <td>Refresh</td>\n",
       "      <td>0</td>\n",
       "      <td>0.0</td>\n",
       "    </tr>\n",
       "    <tr>\n",
       "      <th>108</th>\n",
       "      <td>7-3</td>\n",
       "      <td>$C$19</td>\n",
       "      <td>NaN</td>\n",
       "      <td>Refresh</td>\n",
       "      <td>0</td>\n",
       "      <td>0.0</td>\n",
       "    </tr>\n",
       "    <tr>\n",
       "      <th>109</th>\n",
       "      <td>7-3</td>\n",
       "      <td>$C$16</td>\n",
       "      <td>NaN</td>\n",
       "      <td>Refresh</td>\n",
       "      <td>0</td>\n",
       "      <td>0.0</td>\n",
       "    </tr>\n",
       "    <tr>\n",
       "      <th>110</th>\n",
       "      <td>7-3</td>\n",
       "      <td>$C$31</td>\n",
       "      <td>NaN</td>\n",
       "      <td>Refresh</td>\n",
       "      <td>0</td>\n",
       "      <td>0.0</td>\n",
       "    </tr>\n",
       "    <tr>\n",
       "      <th>111</th>\n",
       "      <td>7-3</td>\n",
       "      <td>$BE$15</td>\n",
       "      <td>NaN</td>\n",
       "      <td>Refresh</td>\n",
       "      <td>0</td>\n",
       "      <td>0.0</td>\n",
       "    </tr>\n",
       "  </tbody>\n",
       "</table>\n",
       "<p>112 rows × 6 columns</p>\n",
       "</div>"
      ],
      "text/plain": [
       "     112    Main  Unnamed: 2 Unnamed: 3  Unnamed: 4  Unnamed: 5\n",
       "0      5  $B$456         NaN    Refresh           0         NaN\n",
       "1      5  $B$458         NaN    Refresh           0         NaN\n",
       "2      5  $B$457         NaN    Refresh           0         NaN\n",
       "3    7-3  $BE$49         NaN    Refresh           0         0.0\n",
       "4    7-3  $BE$46         NaN    Refresh           0         0.0\n",
       "..   ...     ...         ...        ...         ...         ...\n",
       "107  7-3   $K$24         NaN    Refresh           0         0.0\n",
       "108  7-3   $C$19         NaN    Refresh           0         0.0\n",
       "109  7-3   $C$16         NaN    Refresh           0         0.0\n",
       "110  7-3   $C$31         NaN    Refresh           0         0.0\n",
       "111  7-3  $BE$15         NaN    Refresh           0         0.0\n",
       "\n",
       "[112 rows x 6 columns]"
      ]
     },
     "execution_count": 3,
     "metadata": {},
     "output_type": "execute_result"
    }
   ],
   "source": [
    "data"
   ]
  },
  {
   "cell_type": "code",
   "execution_count": 4,
   "id": "899b60f5",
   "metadata": {},
   "outputs": [
    {
     "data": {
      "text/html": [
       "<div>\n",
       "<style scoped>\n",
       "    .dataframe tbody tr th:only-of-type {\n",
       "        vertical-align: middle;\n",
       "    }\n",
       "\n",
       "    .dataframe tbody tr th {\n",
       "        vertical-align: top;\n",
       "    }\n",
       "\n",
       "    .dataframe thead th {\n",
       "        text-align: right;\n",
       "    }\n",
       "</style>\n",
       "<table border=\"1\" class=\"dataframe\">\n",
       "  <thead>\n",
       "    <tr style=\"text-align: right;\">\n",
       "      <th></th>\n",
       "      <th>112</th>\n",
       "      <th>Main</th>\n",
       "      <th>Unnamed: 2</th>\n",
       "      <th>Unnamed: 3</th>\n",
       "      <th>Unnamed: 4</th>\n",
       "      <th>Unnamed: 5</th>\n",
       "    </tr>\n",
       "  </thead>\n",
       "  <tbody>\n",
       "    <tr>\n",
       "      <th>0</th>\n",
       "      <td>False</td>\n",
       "      <td>False</td>\n",
       "      <td>True</td>\n",
       "      <td>False</td>\n",
       "      <td>False</td>\n",
       "      <td>True</td>\n",
       "    </tr>\n",
       "    <tr>\n",
       "      <th>1</th>\n",
       "      <td>False</td>\n",
       "      <td>False</td>\n",
       "      <td>True</td>\n",
       "      <td>False</td>\n",
       "      <td>False</td>\n",
       "      <td>True</td>\n",
       "    </tr>\n",
       "    <tr>\n",
       "      <th>2</th>\n",
       "      <td>False</td>\n",
       "      <td>False</td>\n",
       "      <td>True</td>\n",
       "      <td>False</td>\n",
       "      <td>False</td>\n",
       "      <td>True</td>\n",
       "    </tr>\n",
       "    <tr>\n",
       "      <th>3</th>\n",
       "      <td>False</td>\n",
       "      <td>False</td>\n",
       "      <td>True</td>\n",
       "      <td>False</td>\n",
       "      <td>False</td>\n",
       "      <td>False</td>\n",
       "    </tr>\n",
       "    <tr>\n",
       "      <th>4</th>\n",
       "      <td>False</td>\n",
       "      <td>False</td>\n",
       "      <td>True</td>\n",
       "      <td>False</td>\n",
       "      <td>False</td>\n",
       "      <td>False</td>\n",
       "    </tr>\n",
       "  </tbody>\n",
       "</table>\n",
       "</div>"
      ],
      "text/plain": [
       "     112   Main  Unnamed: 2  Unnamed: 3  Unnamed: 4  Unnamed: 5\n",
       "0  False  False        True       False       False        True\n",
       "1  False  False        True       False       False        True\n",
       "2  False  False        True       False       False        True\n",
       "3  False  False        True       False       False       False\n",
       "4  False  False        True       False       False       False"
      ]
     },
     "execution_count": 4,
     "metadata": {},
     "output_type": "execute_result"
    }
   ],
   "source": [
    "missing_data = data.isnull()\n",
    "missing_data.head(5)"
   ]
  },
  {
   "cell_type": "code",
   "execution_count": 5,
   "id": "a94b68c1",
   "metadata": {},
   "outputs": [
    {
     "name": "stdout",
     "output_type": "stream",
     "text": [
      "112\n",
      "False    112\n",
      "Name: 112, dtype: int64\n",
      "\n",
      "Main\n",
      "False    112\n",
      "Name: Main, dtype: int64\n",
      "\n",
      "Unnamed: 2\n",
      "True    112\n",
      "Name: Unnamed: 2, dtype: int64\n",
      "\n",
      "Unnamed: 3\n",
      "False    112\n",
      "Name: Unnamed: 3, dtype: int64\n",
      "\n",
      "Unnamed: 4\n",
      "False    112\n",
      "Name: Unnamed: 4, dtype: int64\n",
      "\n",
      "Unnamed: 5\n",
      "False    109\n",
      "True       3\n",
      "Name: Unnamed: 5, dtype: int64\n",
      "\n"
     ]
    }
   ],
   "source": [
    "for column in missing_data.columns.values.tolist():\n",
    "    print(column)\n",
    "    print (missing_data[column].value_counts())\n",
    "    print(\"\") "
   ]
  },
  {
   "cell_type": "code",
   "execution_count": 7,
   "id": "ec297143",
   "metadata": {},
   "outputs": [
    {
     "name": "stdout",
     "output_type": "stream",
     "text": [
      "Average of Unnamed: 2 nan\n"
     ]
    }
   ],
   "source": [
    "avg_Weekly_Sales = data[\"Unnamed: 2\"].astype(\"float\").mean(axis=0)\n",
    "print(\"Average of Unnamed: 2\", avg_Weekly_Sales)"
   ]
  },
  {
   "cell_type": "code",
   "execution_count": 8,
   "id": "339e0dbb",
   "metadata": {},
   "outputs": [
    {
     "name": "stdout",
     "output_type": "stream",
     "text": [
      "Average of Unemployment: nan\n"
     ]
    }
   ],
   "source": [
    "avg_Weekly_Sales=data['Unnamed: 2'].astype('float').mean(axis=0)\n",
    "print(\"Average of Unemployment:\", avg_Weekly_Sales)\n",
    "# replace NaN by mean value in \"Weekly_Sales\" column\n",
    "data[\"Unnamed: 2\"].replace(np.nan, avg_Weekly_Sales, inplace = True)"
   ]
  },
  {
   "cell_type": "code",
   "execution_count": 17,
   "id": "fe1352c6",
   "metadata": {},
   "outputs": [
    {
     "data": {
      "text/plain": [
       "0.0    109\n",
       "Name: Unnamed: 5, dtype: int64"
      ]
     },
     "execution_count": 17,
     "metadata": {},
     "output_type": "execute_result"
    }
   ],
   "source": [
    "data['Unnamed: 5'].value_counts()"
   ]
  },
  {
   "cell_type": "code",
   "execution_count": 13,
   "id": "3bbd88aa",
   "metadata": {},
   "outputs": [
    {
     "data": {
      "text/html": [
       "<div>\n",
       "<style scoped>\n",
       "    .dataframe tbody tr th:only-of-type {\n",
       "        vertical-align: middle;\n",
       "    }\n",
       "\n",
       "    .dataframe tbody tr th {\n",
       "        vertical-align: top;\n",
       "    }\n",
       "\n",
       "    .dataframe thead th {\n",
       "        text-align: right;\n",
       "    }\n",
       "</style>\n",
       "<table border=\"1\" class=\"dataframe\">\n",
       "  <thead>\n",
       "    <tr style=\"text-align: right;\">\n",
       "      <th></th>\n",
       "      <th>112</th>\n",
       "      <th>Main</th>\n",
       "      <th>Unnamed: 2</th>\n",
       "      <th>Unnamed: 3</th>\n",
       "      <th>Unnamed: 4</th>\n",
       "      <th>Unnamed: 5</th>\n",
       "    </tr>\n",
       "  </thead>\n",
       "  <tbody>\n",
       "    <tr>\n",
       "      <th>0</th>\n",
       "      <td>5</td>\n",
       "      <td>$B$456</td>\n",
       "      <td>NaN</td>\n",
       "      <td>Refresh</td>\n",
       "      <td>0</td>\n",
       "      <td>NaN</td>\n",
       "    </tr>\n",
       "    <tr>\n",
       "      <th>1</th>\n",
       "      <td>5</td>\n",
       "      <td>$B$458</td>\n",
       "      <td>NaN</td>\n",
       "      <td>Refresh</td>\n",
       "      <td>0</td>\n",
       "      <td>NaN</td>\n",
       "    </tr>\n",
       "    <tr>\n",
       "      <th>2</th>\n",
       "      <td>5</td>\n",
       "      <td>$B$457</td>\n",
       "      <td>NaN</td>\n",
       "      <td>Refresh</td>\n",
       "      <td>0</td>\n",
       "      <td>NaN</td>\n",
       "    </tr>\n",
       "    <tr>\n",
       "      <th>3</th>\n",
       "      <td>7-3</td>\n",
       "      <td>$BE$49</td>\n",
       "      <td>NaN</td>\n",
       "      <td>Refresh</td>\n",
       "      <td>0</td>\n",
       "      <td>0.0</td>\n",
       "    </tr>\n",
       "    <tr>\n",
       "      <th>4</th>\n",
       "      <td>7-3</td>\n",
       "      <td>$BE$46</td>\n",
       "      <td>NaN</td>\n",
       "      <td>Refresh</td>\n",
       "      <td>0</td>\n",
       "      <td>0.0</td>\n",
       "    </tr>\n",
       "  </tbody>\n",
       "</table>\n",
       "</div>"
      ],
      "text/plain": [
       "   112    Main  Unnamed: 2 Unnamed: 3  Unnamed: 4  Unnamed: 5\n",
       "0    5  $B$456         NaN    Refresh           0         NaN\n",
       "1    5  $B$458         NaN    Refresh           0         NaN\n",
       "2    5  $B$457         NaN    Refresh           0         NaN\n",
       "3  7-3  $BE$49         NaN    Refresh           0         0.0\n",
       "4  7-3  $BE$46         NaN    Refresh           0         0.0"
      ]
     },
     "execution_count": 13,
     "metadata": {},
     "output_type": "execute_result"
    }
   ],
   "source": [
    "# simply drop whole row with NaN in \"CPI\" column\n",
    "data.dropna(subset=[\"Unnamed: 4\"], axis=0, inplace=True)\n",
    "\n",
    "# reset index, because we droped two rows\n",
    "data.reset_index(drop=True, inplace=True)\n",
    "data.head()"
   ]
  },
  {
   "cell_type": "code",
   "execution_count": 14,
   "id": "8ef2329d",
   "metadata": {
    "scrolled": true
   },
   "outputs": [
    {
     "data": {
      "text/plain": [
       "112            object\n",
       "Main           object\n",
       "Unnamed: 2    float64\n",
       "Unnamed: 3     object\n",
       "Unnamed: 4      int64\n",
       "Unnamed: 5    float64\n",
       "dtype: object"
      ]
     },
     "execution_count": 14,
     "metadata": {},
     "output_type": "execute_result"
    }
   ],
   "source": [
    "data.dtypes"
   ]
  },
  {
   "cell_type": "code",
   "execution_count": 36,
   "id": "b45f6f75",
   "metadata": {},
   "outputs": [
    {
     "data": {
      "text/html": [
       "<div>\n",
       "<style scoped>\n",
       "    .dataframe tbody tr th:only-of-type {\n",
       "        vertical-align: middle;\n",
       "    }\n",
       "\n",
       "    .dataframe tbody tr th {\n",
       "        vertical-align: top;\n",
       "    }\n",
       "\n",
       "    .dataframe thead th {\n",
       "        text-align: right;\n",
       "    }\n",
       "</style>\n",
       "<table border=\"1\" class=\"dataframe\">\n",
       "  <thead>\n",
       "    <tr style=\"text-align: right;\">\n",
       "      <th></th>\n",
       "      <th>112</th>\n",
       "      <th>Main</th>\n",
       "      <th>Unnamed: 2</th>\n",
       "      <th>Unnamed: 3</th>\n",
       "      <th>Unnamed: 4</th>\n",
       "      <th>Unnamed: 5</th>\n",
       "    </tr>\n",
       "  </thead>\n",
       "  <tbody>\n",
       "    <tr>\n",
       "      <th>0</th>\n",
       "      <td>5</td>\n",
       "      <td>$B$456</td>\n",
       "      <td>NaN</td>\n",
       "      <td>0.0</td>\n",
       "      <td>0</td>\n",
       "      <td>NaN</td>\n",
       "    </tr>\n",
       "    <tr>\n",
       "      <th>1</th>\n",
       "      <td>5</td>\n",
       "      <td>$B$458</td>\n",
       "      <td>NaN</td>\n",
       "      <td>0.0</td>\n",
       "      <td>0</td>\n",
       "      <td>NaN</td>\n",
       "    </tr>\n",
       "    <tr>\n",
       "      <th>2</th>\n",
       "      <td>5</td>\n",
       "      <td>$B$457</td>\n",
       "      <td>NaN</td>\n",
       "      <td>0.0</td>\n",
       "      <td>0</td>\n",
       "      <td>NaN</td>\n",
       "    </tr>\n",
       "    <tr>\n",
       "      <th>3</th>\n",
       "      <td>7-3</td>\n",
       "      <td>$BE$49</td>\n",
       "      <td>NaN</td>\n",
       "      <td>0.0</td>\n",
       "      <td>0</td>\n",
       "      <td>0.0</td>\n",
       "    </tr>\n",
       "    <tr>\n",
       "      <th>4</th>\n",
       "      <td>7-3</td>\n",
       "      <td>$BE$46</td>\n",
       "      <td>NaN</td>\n",
       "      <td>0.0</td>\n",
       "      <td>0</td>\n",
       "      <td>0.0</td>\n",
       "    </tr>\n",
       "  </tbody>\n",
       "</table>\n",
       "</div>"
      ],
      "text/plain": [
       "   112    Main  Unnamed: 2  Unnamed: 3  Unnamed: 4  Unnamed: 5\n",
       "0    5  $B$456         NaN         0.0           0         NaN\n",
       "1    5  $B$458         NaN         0.0           0         NaN\n",
       "2    5  $B$457         NaN         0.0           0         NaN\n",
       "3  7-3  $BE$49         NaN         0.0           0         0.0\n",
       "4  7-3  $BE$46         NaN         0.0           0         0.0"
      ]
     },
     "execution_count": 36,
     "metadata": {},
     "output_type": "execute_result"
    }
   ],
   "source": [
    "data.head()"
   ]
  },
  {
   "cell_type": "code",
   "execution_count": 37,
   "id": "4523b33f",
   "metadata": {},
   "outputs": [
    {
     "name": "stdout",
     "output_type": "stream",
     "text": [
      "112\n",
      "False    112\n",
      "Name: 112, dtype: int64\n",
      "\n",
      "Main\n",
      "False    112\n",
      "Name: Main, dtype: int64\n",
      "\n",
      "Unnamed: 2\n",
      "True    112\n",
      "Name: Unnamed: 2, dtype: int64\n",
      "\n",
      "Unnamed: 3\n",
      "False    112\n",
      "Name: Unnamed: 3, dtype: int64\n",
      "\n",
      "Unnamed: 4\n",
      "False    112\n",
      "Name: Unnamed: 4, dtype: int64\n",
      "\n",
      "Unnamed: 5\n",
      "False    109\n",
      "True       3\n",
      "Name: Unnamed: 5, dtype: int64\n",
      "\n"
     ]
    }
   ],
   "source": [
    "for column in missing_data.columns.values.tolist():\n",
    "    print(column)\n",
    "    print (missing_data[column].value_counts())\n",
    "    print(\"\") "
   ]
  },
  {
   "cell_type": "code",
   "execution_count": null,
   "id": "babfec07",
   "metadata": {},
   "outputs": [],
   "source": []
  },
  {
   "cell_type": "code",
   "execution_count": null,
   "id": "fbd2c4fc",
   "metadata": {},
   "outputs": [],
   "source": []
  }
 ],
 "metadata": {
  "kernelspec": {
   "display_name": "Python 3 (ipykernel)",
   "language": "python",
   "name": "python3"
  },
  "language_info": {
   "codemirror_mode": {
    "name": "ipython",
    "version": 3
   },
   "file_extension": ".py",
   "mimetype": "text/x-python",
   "name": "python",
   "nbconvert_exporter": "python",
   "pygments_lexer": "ipython3",
   "version": "3.9.7"
  }
 },
 "nbformat": 4,
 "nbformat_minor": 5
}
