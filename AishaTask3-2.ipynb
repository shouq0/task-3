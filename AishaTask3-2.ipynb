{
  "metadata": {
    "language_info": {
      "codemirror_mode": {
        "name": "python",
        "version": 3
      },
      "file_extension": ".py",
      "mimetype": "text/x-python",
      "name": "python",
      "nbconvert_exporter": "python",
      "pygments_lexer": "ipython3",
      "version": "3.8"
    },
    "kernelspec": {
      "name": "python",
      "display_name": "Python (Pyodide)",
      "language": "python"
    }
  },
  "nbformat_minor": 4,
  "nbformat": 4,
  "cells": [
    {
      "cell_type": "code",
      "source": "import numpy as np\nimport pandas as pd",
      "metadata": {
        "trusted": true
      },
      "execution_count": 8,
      "outputs": []
    },
    {
      "cell_type": "code",
      "source": "data = pd.read_csv(\"Cereal.csv\",header=0)",
      "metadata": {
        "trusted": true
      },
      "execution_count": 9,
      "outputs": []
    },
    {
      "cell_type": "code",
      "source": "data.head()",
      "metadata": {
        "trusted": true
      },
      "execution_count": 10,
      "outputs": [
        {
          "execution_count": 10,
          "output_type": "execute_result",
          "data": {
            "text/plain": "                      name mfr type  calories  protein  sodium  fiber  carbo  \\\n0           Almond Delight   R    C       110        2     200    1.0   14.0   \n1  Apple Cinnamon Cheerios   G    C       110        2     180    1.5   10.5   \n2              Apple Jacks   K    C       110        2     125    1.0   11.0   \n3                  Basic 4   G    C       130        3     210    2.0   18.0   \n4                Bran Chex   R    C        90        2     200    4.0   15.0   \n\n   sugars  potass  vitamins  weight  cups     rating  \n0       8     NaN        25    1.00  0.75  34.384843  \n1      10    70.0        25    1.00  0.75  29.509541  \n2      14    30.0        25    1.00  1.00  33.174094  \n3       8   100.0        25    1.33  0.75  37.038562  \n4       6   125.0        25    1.00  0.67  49.120253  ",
            "text/html": "<div>\n<style scoped>\n    .dataframe tbody tr th:only-of-type {\n        vertical-align: middle;\n    }\n\n    .dataframe tbody tr th {\n        vertical-align: top;\n    }\n\n    .dataframe thead th {\n        text-align: right;\n    }\n</style>\n<table border=\"1\" class=\"dataframe\">\n  <thead>\n    <tr style=\"text-align: right;\">\n      <th></th>\n      <th>name</th>\n      <th>mfr</th>\n      <th>type</th>\n      <th>calories</th>\n      <th>protein</th>\n      <th>sodium</th>\n      <th>fiber</th>\n      <th>carbo</th>\n      <th>sugars</th>\n      <th>potass</th>\n      <th>vitamins</th>\n      <th>weight</th>\n      <th>cups</th>\n      <th>rating</th>\n    </tr>\n  </thead>\n  <tbody>\n    <tr>\n      <th>0</th>\n      <td>Almond Delight</td>\n      <td>R</td>\n      <td>C</td>\n      <td>110</td>\n      <td>2</td>\n      <td>200</td>\n      <td>1.0</td>\n      <td>14.0</td>\n      <td>8</td>\n      <td>NaN</td>\n      <td>25</td>\n      <td>1.00</td>\n      <td>0.75</td>\n      <td>34.384843</td>\n    </tr>\n    <tr>\n      <th>1</th>\n      <td>Apple Cinnamon Cheerios</td>\n      <td>G</td>\n      <td>C</td>\n      <td>110</td>\n      <td>2</td>\n      <td>180</td>\n      <td>1.5</td>\n      <td>10.5</td>\n      <td>10</td>\n      <td>70.0</td>\n      <td>25</td>\n      <td>1.00</td>\n      <td>0.75</td>\n      <td>29.509541</td>\n    </tr>\n    <tr>\n      <th>2</th>\n      <td>Apple Jacks</td>\n      <td>K</td>\n      <td>C</td>\n      <td>110</td>\n      <td>2</td>\n      <td>125</td>\n      <td>1.0</td>\n      <td>11.0</td>\n      <td>14</td>\n      <td>30.0</td>\n      <td>25</td>\n      <td>1.00</td>\n      <td>1.00</td>\n      <td>33.174094</td>\n    </tr>\n    <tr>\n      <th>3</th>\n      <td>Basic 4</td>\n      <td>G</td>\n      <td>C</td>\n      <td>130</td>\n      <td>3</td>\n      <td>210</td>\n      <td>2.0</td>\n      <td>18.0</td>\n      <td>8</td>\n      <td>100.0</td>\n      <td>25</td>\n      <td>1.33</td>\n      <td>0.75</td>\n      <td>37.038562</td>\n    </tr>\n    <tr>\n      <th>4</th>\n      <td>Bran Chex</td>\n      <td>R</td>\n      <td>C</td>\n      <td>90</td>\n      <td>2</td>\n      <td>200</td>\n      <td>4.0</td>\n      <td>15.0</td>\n      <td>6</td>\n      <td>125.0</td>\n      <td>25</td>\n      <td>1.00</td>\n      <td>0.67</td>\n      <td>49.120253</td>\n    </tr>\n  </tbody>\n</table>\n</div>"
          },
          "metadata": {}
        }
      ]
    },
    {
      "cell_type": "code",
      "source": "categorical=data.select_dtypes(exclude=[np.number])",
      "metadata": {
        "trusted": true
      },
      "execution_count": 11,
      "outputs": []
    },
    {
      "cell_type": "code",
      "source": "categorical.head()",
      "metadata": {
        "trusted": true
      },
      "execution_count": 12,
      "outputs": [
        {
          "execution_count": 12,
          "output_type": "execute_result",
          "data": {
            "text/plain": "                      name mfr type\n0           Almond Delight   R    C\n1  Apple Cinnamon Cheerios   G    C\n2              Apple Jacks   K    C\n3                  Basic 4   G    C\n4                Bran Chex   R    C",
            "text/html": "<div>\n<style scoped>\n    .dataframe tbody tr th:only-of-type {\n        vertical-align: middle;\n    }\n\n    .dataframe tbody tr th {\n        vertical-align: top;\n    }\n\n    .dataframe thead th {\n        text-align: right;\n    }\n</style>\n<table border=\"1\" class=\"dataframe\">\n  <thead>\n    <tr style=\"text-align: right;\">\n      <th></th>\n      <th>name</th>\n      <th>mfr</th>\n      <th>type</th>\n    </tr>\n  </thead>\n  <tbody>\n    <tr>\n      <th>0</th>\n      <td>Almond Delight</td>\n      <td>R</td>\n      <td>C</td>\n    </tr>\n    <tr>\n      <th>1</th>\n      <td>Apple Cinnamon Cheerios</td>\n      <td>G</td>\n      <td>C</td>\n    </tr>\n    <tr>\n      <th>2</th>\n      <td>Apple Jacks</td>\n      <td>K</td>\n      <td>C</td>\n    </tr>\n    <tr>\n      <th>3</th>\n      <td>Basic 4</td>\n      <td>G</td>\n      <td>C</td>\n    </tr>\n    <tr>\n      <th>4</th>\n      <td>Bran Chex</td>\n      <td>R</td>\n      <td>C</td>\n    </tr>\n  </tbody>\n</table>\n</div>"
          },
          "metadata": {}
        }
      ]
    },
    {
      "cell_type": "code",
      "source": "categorical['mfr'].unique()",
      "metadata": {
        "trusted": true
      },
      "execution_count": 14,
      "outputs": [
        {
          "execution_count": 14,
          "output_type": "execute_result",
          "data": {
            "text/plain": "array(['R', 'G', 'K', 'P', 'Q', nan, 'A', 'N'], dtype=object)"
          },
          "metadata": {}
        }
      ]
    },
    {
      "cell_type": "code",
      "source": "categorical.mfr.value_counts()",
      "metadata": {
        "trusted": true
      },
      "execution_count": 15,
      "outputs": [
        {
          "execution_count": 15,
          "output_type": "execute_result",
          "data": {
            "text/plain": "G    21\nK    19\nP     9\nR     8\nQ     6\nN     4\nA     1\nName: mfr, dtype: int64"
          },
          "metadata": {}
        }
      ]
    },
    {
      "cell_type": "code",
      "source": "categorical.type.value_counts()",
      "metadata": {
        "trusted": true
      },
      "execution_count": 17,
      "outputs": [
        {
          "execution_count": 17,
          "output_type": "execute_result",
          "data": {
            "text/plain": "C    64\nH     3\nName: type, dtype: int64"
          },
          "metadata": {}
        }
      ]
    },
    {
      "cell_type": "code",
      "source": "categorical.mfr.replace({\"G\":21 ,\"K\":19 ,\"P\":9 ,\"R\":8 ,\"Q\":6 ,\"N\":4 ,\"A\":1} , inplace=True)",
      "metadata": {
        "trusted": true
      },
      "execution_count": 26,
      "outputs": []
    },
    {
      "cell_type": "code",
      "source": "categorical.type.replace({\"C\":64 ,\"H\":3 }, inplace=True)",
      "metadata": {
        "trusted": true
      },
      "execution_count": 27,
      "outputs": []
    },
    {
      "cell_type": "code",
      "source": "categorical.head()",
      "metadata": {
        "trusted": true
      },
      "execution_count": 28,
      "outputs": [
        {
          "execution_count": 28,
          "output_type": "execute_result",
          "data": {
            "text/plain": "                      name   mfr  type\n0           Almond Delight   8.0  64.0\n1  Apple Cinnamon Cheerios  21.0  64.0\n2              Apple Jacks  19.0  64.0\n3                  Basic 4  21.0  64.0\n4                Bran Chex   8.0  64.0",
            "text/html": "<div>\n<style scoped>\n    .dataframe tbody tr th:only-of-type {\n        vertical-align: middle;\n    }\n\n    .dataframe tbody tr th {\n        vertical-align: top;\n    }\n\n    .dataframe thead th {\n        text-align: right;\n    }\n</style>\n<table border=\"1\" class=\"dataframe\">\n  <thead>\n    <tr style=\"text-align: right;\">\n      <th></th>\n      <th>name</th>\n      <th>mfr</th>\n      <th>type</th>\n    </tr>\n  </thead>\n  <tbody>\n    <tr>\n      <th>0</th>\n      <td>Almond Delight</td>\n      <td>8.0</td>\n      <td>64.0</td>\n    </tr>\n    <tr>\n      <th>1</th>\n      <td>Apple Cinnamon Cheerios</td>\n      <td>21.0</td>\n      <td>64.0</td>\n    </tr>\n    <tr>\n      <th>2</th>\n      <td>Apple Jacks</td>\n      <td>19.0</td>\n      <td>64.0</td>\n    </tr>\n    <tr>\n      <th>3</th>\n      <td>Basic 4</td>\n      <td>21.0</td>\n      <td>64.0</td>\n    </tr>\n    <tr>\n      <th>4</th>\n      <td>Bran Chex</td>\n      <td>8.0</td>\n      <td>64.0</td>\n    </tr>\n  </tbody>\n</table>\n</div>"
          },
          "metadata": {}
        }
      ]
    },
    {
      "cell_type": "code",
      "source": "",
      "metadata": {},
      "execution_count": null,
      "outputs": []
    }
  ]
}