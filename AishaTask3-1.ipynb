{
  "metadata": {
    "language_info": {
      "codemirror_mode": {
        "name": "python",
        "version": 3
      },
      "file_extension": ".py",
      "mimetype": "text/x-python",
      "name": "python",
      "nbconvert_exporter": "python",
      "pygments_lexer": "ipython3",
      "version": "3.8"
    },
    "kernelspec": {
      "name": "python",
      "display_name": "Python (Pyodide)",
      "language": "python"
    }
  },
  "nbformat_minor": 4,
  "nbformat": 4,
  "cells": [
    {
      "cell_type": "code",
      "source": "import pandas as pd\nimport numpy as np",
      "metadata": {
        "trusted": true
      },
      "execution_count": 1,
      "outputs": []
    },
    {
      "cell_type": "code",
      "source": "df = pd.read_csv(\"Cereal.csv\")",
      "metadata": {
        "trusted": true
      },
      "execution_count": 2,
      "outputs": []
    },
    {
      "cell_type": "code",
      "source": "df.head()",
      "metadata": {
        "trusted": true
      },
      "execution_count": 3,
      "outputs": [
        {
          "execution_count": 3,
          "output_type": "execute_result",
          "data": {
            "text/plain": "                      name mfr type  calories  protein  sodium  fiber  carbo  \\\n0           Almond Delight   R    C       110        2     200    1.0   14.0   \n1  Apple Cinnamon Cheerios   G    C       110        2     180    1.5   10.5   \n2              Apple Jacks   K    C       110        2     125    1.0   11.0   \n3                  Basic 4   G    C       130        3     210    2.0   18.0   \n4                Bran Chex   R    C        90        2     200    4.0   15.0   \n\n   sugars  potass  vitamins  weight  cups     rating  \n0       8     NaN        25    1.00  0.75  34.384843  \n1      10    70.0        25    1.00  0.75  29.509541  \n2      14    30.0        25    1.00  1.00  33.174094  \n3       8   100.0        25    1.33  0.75  37.038562  \n4       6   125.0        25    1.00  0.67  49.120253  ",
            "text/html": "<div>\n<style scoped>\n    .dataframe tbody tr th:only-of-type {\n        vertical-align: middle;\n    }\n\n    .dataframe tbody tr th {\n        vertical-align: top;\n    }\n\n    .dataframe thead th {\n        text-align: right;\n    }\n</style>\n<table border=\"1\" class=\"dataframe\">\n  <thead>\n    <tr style=\"text-align: right;\">\n      <th></th>\n      <th>name</th>\n      <th>mfr</th>\n      <th>type</th>\n      <th>calories</th>\n      <th>protein</th>\n      <th>sodium</th>\n      <th>fiber</th>\n      <th>carbo</th>\n      <th>sugars</th>\n      <th>potass</th>\n      <th>vitamins</th>\n      <th>weight</th>\n      <th>cups</th>\n      <th>rating</th>\n    </tr>\n  </thead>\n  <tbody>\n    <tr>\n      <th>0</th>\n      <td>Almond Delight</td>\n      <td>R</td>\n      <td>C</td>\n      <td>110</td>\n      <td>2</td>\n      <td>200</td>\n      <td>1.0</td>\n      <td>14.0</td>\n      <td>8</td>\n      <td>NaN</td>\n      <td>25</td>\n      <td>1.00</td>\n      <td>0.75</td>\n      <td>34.384843</td>\n    </tr>\n    <tr>\n      <th>1</th>\n      <td>Apple Cinnamon Cheerios</td>\n      <td>G</td>\n      <td>C</td>\n      <td>110</td>\n      <td>2</td>\n      <td>180</td>\n      <td>1.5</td>\n      <td>10.5</td>\n      <td>10</td>\n      <td>70.0</td>\n      <td>25</td>\n      <td>1.00</td>\n      <td>0.75</td>\n      <td>29.509541</td>\n    </tr>\n    <tr>\n      <th>2</th>\n      <td>Apple Jacks</td>\n      <td>K</td>\n      <td>C</td>\n      <td>110</td>\n      <td>2</td>\n      <td>125</td>\n      <td>1.0</td>\n      <td>11.0</td>\n      <td>14</td>\n      <td>30.0</td>\n      <td>25</td>\n      <td>1.00</td>\n      <td>1.00</td>\n      <td>33.174094</td>\n    </tr>\n    <tr>\n      <th>3</th>\n      <td>Basic 4</td>\n      <td>G</td>\n      <td>C</td>\n      <td>130</td>\n      <td>3</td>\n      <td>210</td>\n      <td>2.0</td>\n      <td>18.0</td>\n      <td>8</td>\n      <td>100.0</td>\n      <td>25</td>\n      <td>1.33</td>\n      <td>0.75</td>\n      <td>37.038562</td>\n    </tr>\n    <tr>\n      <th>4</th>\n      <td>Bran Chex</td>\n      <td>R</td>\n      <td>C</td>\n      <td>90</td>\n      <td>2</td>\n      <td>200</td>\n      <td>4.0</td>\n      <td>15.0</td>\n      <td>6</td>\n      <td>125.0</td>\n      <td>25</td>\n      <td>1.00</td>\n      <td>0.67</td>\n      <td>49.120253</td>\n    </tr>\n  </tbody>\n</table>\n</div>"
          },
          "metadata": {}
        }
      ]
    },
    {
      "cell_type": "code",
      "source": "df.isna().sum()",
      "metadata": {
        "trusted": true
      },
      "execution_count": 4,
      "outputs": [
        {
          "execution_count": 4,
          "output_type": "execute_result",
          "data": {
            "text/plain": "name        0\nmfr         5\ntype        6\ncalories    0\nprotein     0\nsodium      0\nfiber       0\ncarbo       0\nsugars      0\npotass      8\nvitamins    0\nweight      0\ncups        0\nrating      0\ndtype: int64"
          },
          "metadata": {}
        }
      ]
    },
    {
      "cell_type": "code",
      "source": "potass_mean = df.potass.mean()",
      "metadata": {
        "trusted": true
      },
      "execution_count": 5,
      "outputs": []
    },
    {
      "cell_type": "code",
      "source": "print(\"Mean of potass column : \" , potass_mean)",
      "metadata": {
        "trusted": true
      },
      "execution_count": 6,
      "outputs": [
        {
          "name": "stdout",
          "text": "Mean of potass column :  87.38461538461539\n",
          "output_type": "stream"
        }
      ]
    },
    {
      "cell_type": "code",
      "source": "df.potass.fillna(potass_mean,inplace = True)",
      "metadata": {
        "trusted": true
      },
      "execution_count": 7,
      "outputs": []
    },
    {
      "cell_type": "code",
      "source": "df.isna().sum()",
      "metadata": {
        "trusted": true
      },
      "execution_count": 8,
      "outputs": [
        {
          "execution_count": 8,
          "output_type": "execute_result",
          "data": {
            "text/plain": "name        0\nmfr         5\ntype        6\ncalories    0\nprotein     0\nsodium      0\nfiber       0\ncarbo       0\nsugars      0\npotass      0\nvitamins    0\nweight      0\ncups        0\nrating      0\ndtype: int64"
          },
          "metadata": {}
        }
      ]
    },
    {
      "cell_type": "code",
      "source": "df['mfr'].unique()",
      "metadata": {
        "trusted": true
      },
      "execution_count": 9,
      "outputs": [
        {
          "execution_count": 9,
          "output_type": "execute_result",
          "data": {
            "text/plain": "array(['R', 'G', 'K', 'P', 'Q', nan, 'A', 'N'], dtype=object)"
          },
          "metadata": {}
        }
      ]
    },
    {
      "cell_type": "code",
      "source": "mfr_mode = df.mfr.mode()[0]",
      "metadata": {
        "trusted": true
      },
      "execution_count": 10,
      "outputs": []
    },
    {
      "cell_type": "code",
      "source": "print(\"Mode for mfr : \" , mfr_mode)",
      "metadata": {
        "trusted": true
      },
      "execution_count": 11,
      "outputs": [
        {
          "name": "stdout",
          "text": "Mode for mfr :  G\n",
          "output_type": "stream"
        }
      ]
    },
    {
      "cell_type": "code",
      "source": "df.mfr.fillna(mfr_mode , inplace=True)",
      "metadata": {
        "trusted": true
      },
      "execution_count": 12,
      "outputs": []
    },
    {
      "cell_type": "code",
      "source": "df.isna().sum()",
      "metadata": {
        "trusted": true
      },
      "execution_count": 13,
      "outputs": [
        {
          "execution_count": 13,
          "output_type": "execute_result",
          "data": {
            "text/plain": "name        0\nmfr         0\ntype        6\ncalories    0\nprotein     0\nsodium      0\nfiber       0\ncarbo       0\nsugars      0\npotass      0\nvitamins    0\nweight      0\ncups        0\nrating      0\ndtype: int64"
          },
          "metadata": {}
        }
      ]
    },
    {
      "cell_type": "code",
      "source": "df['type'].unique()",
      "metadata": {
        "trusted": true
      },
      "execution_count": 14,
      "outputs": [
        {
          "execution_count": 14,
          "output_type": "execute_result",
          "data": {
            "text/plain": "array(['C', nan, 'H'], dtype=object)"
          },
          "metadata": {}
        }
      ]
    },
    {
      "cell_type": "code",
      "source": "type_mode = df.type.mode()[0]",
      "metadata": {
        "trusted": true
      },
      "execution_count": 15,
      "outputs": []
    },
    {
      "cell_type": "code",
      "source": "print(\"Mode for type : \" , type_mode)",
      "metadata": {
        "trusted": true
      },
      "execution_count": 16,
      "outputs": [
        {
          "name": "stdout",
          "text": "Mode for type :  C\n",
          "output_type": "stream"
        }
      ]
    },
    {
      "cell_type": "code",
      "source": "df.type.fillna(type_mode , inplace=True)",
      "metadata": {
        "trusted": true
      },
      "execution_count": 17,
      "outputs": []
    },
    {
      "cell_type": "code",
      "source": "df.isna().sum()",
      "metadata": {
        "trusted": true
      },
      "execution_count": 18,
      "outputs": [
        {
          "execution_count": 18,
          "output_type": "execute_result",
          "data": {
            "text/plain": "name        0\nmfr         0\ntype        0\ncalories    0\nprotein     0\nsodium      0\nfiber       0\ncarbo       0\nsugars      0\npotass      0\nvitamins    0\nweight      0\ncups        0\nrating      0\ndtype: int64"
          },
          "metadata": {}
        }
      ]
    },
    {
      "cell_type": "code",
      "source": "",
      "metadata": {},
      "execution_count": null,
      "outputs": []
    }
  ]
}